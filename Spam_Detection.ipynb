{
  "nbformat": 4,
  "nbformat_minor": 0,
  "metadata": {
    "colab": {
      "name": "Spam Detection.ipynb",
      "provenance": [],
      "collapsed_sections": [],
      "include_colab_link": true
    },
    "kernelspec": {
      "display_name": "Python 3",
      "name": "python3"
    }
  },
  "cells": [
    {
      "cell_type": "markdown",
      "metadata": {
        "id": "view-in-github",
        "colab_type": "text"
      },
      "source": [
        "<a href=\"https://colab.research.google.com/github/Yogesh-8998/Gmail-Spam-Detection/blob/main/Spam_Detection.ipynb\" target=\"_parent\"><img src=\"https://colab.research.google.com/assets/colab-badge.svg\" alt=\"Open In Colab\"/></a>"
      ]
    },
    {
      "cell_type": "code",
      "metadata": {
        "id": "NhJSwfye69hx",
        "colab": {
          "base_uri": "https://localhost:8080/"
        },
        "outputId": "cef5cb0d-a4f2-4b3b-d3be-27f26e079e4a"
      },
      "source": [
        "from google.colab import drive\n",
        "drive.mount('/content/drive')"
      ],
      "execution_count": null,
      "outputs": [
        {
          "output_type": "stream",
          "text": [
            "Mounted at /content/drive\n"
          ],
          "name": "stdout"
        }
      ]
    },
    {
      "cell_type": "code",
      "metadata": {
        "id": "HDhUmvWmkH6X"
      },
      "source": [
        "import pandas as pd\n",
        "import numpy as np\n",
        "import nltk"
      ],
      "execution_count": null,
      "outputs": []
    },
    {
      "cell_type": "code",
      "metadata": {
        "colab": {
          "base_uri": "https://localhost:8080/"
        },
        "id": "3K5YhCDd85DL",
        "outputId": "14cb6878-da4d-445b-9c15-b1a62d26ae0c"
      },
      "source": [
        "nltk.download('wordnet')"
      ],
      "execution_count": null,
      "outputs": [
        {
          "output_type": "stream",
          "text": [
            "[nltk_data] Downloading package wordnet to /root/nltk_data...\n",
            "[nltk_data]   Unzipping corpora/wordnet.zip.\n"
          ],
          "name": "stdout"
        },
        {
          "output_type": "execute_result",
          "data": {
            "text/plain": [
              "True"
            ]
          },
          "metadata": {
            "tags": []
          },
          "execution_count": 2
        }
      ]
    },
    {
      "cell_type": "code",
      "metadata": {
        "id": "PpMyIUZEk52G",
        "colab": {
          "base_uri": "https://localhost:8080/",
          "height": 359
        },
        "outputId": "dccf2505-cf75-4ad8-cd8e-7d86621ce511"
      },
      "source": [
        "dt=pd.read_csv(\"/content/drive/MyDrive/ML_Internship/SPAM.csv\",encoding='latin1')\n",
        "dt.head(10)"
      ],
      "execution_count": null,
      "outputs": [
        {
          "output_type": "execute_result",
          "data": {
            "text/html": [
              "<div>\n",
              "<style scoped>\n",
              "    .dataframe tbody tr th:only-of-type {\n",
              "        vertical-align: middle;\n",
              "    }\n",
              "\n",
              "    .dataframe tbody tr th {\n",
              "        vertical-align: top;\n",
              "    }\n",
              "\n",
              "    .dataframe thead th {\n",
              "        text-align: right;\n",
              "    }\n",
              "</style>\n",
              "<table border=\"1\" class=\"dataframe\">\n",
              "  <thead>\n",
              "    <tr style=\"text-align: right;\">\n",
              "      <th></th>\n",
              "      <th>type</th>\n",
              "      <th>text</th>\n",
              "    </tr>\n",
              "  </thead>\n",
              "  <tbody>\n",
              "    <tr>\n",
              "      <th>0</th>\n",
              "      <td>ham</td>\n",
              "      <td>Go until jurong point, crazy.. Available only ...</td>\n",
              "    </tr>\n",
              "    <tr>\n",
              "      <th>1</th>\n",
              "      <td>ham</td>\n",
              "      <td>Ok lar... Joking wif u oni...</td>\n",
              "    </tr>\n",
              "    <tr>\n",
              "      <th>2</th>\n",
              "      <td>spam</td>\n",
              "      <td>Free entry in 2 a wkly comp to win FA Cup fina...</td>\n",
              "    </tr>\n",
              "    <tr>\n",
              "      <th>3</th>\n",
              "      <td>ham</td>\n",
              "      <td>U dun say so early hor... U c already then say...</td>\n",
              "    </tr>\n",
              "    <tr>\n",
              "      <th>4</th>\n",
              "      <td>ham</td>\n",
              "      <td>Nah I don't think he goes to usf, he lives aro...</td>\n",
              "    </tr>\n",
              "    <tr>\n",
              "      <th>5</th>\n",
              "      <td>spam</td>\n",
              "      <td>FreeMsg Hey there darling it's been 3 week's n...</td>\n",
              "    </tr>\n",
              "    <tr>\n",
              "      <th>6</th>\n",
              "      <td>ham</td>\n",
              "      <td>Even my brother is not like to speak with me. ...</td>\n",
              "    </tr>\n",
              "    <tr>\n",
              "      <th>7</th>\n",
              "      <td>ham</td>\n",
              "      <td>As per your request 'Melle Melle (Oru Minnamin...</td>\n",
              "    </tr>\n",
              "    <tr>\n",
              "      <th>8</th>\n",
              "      <td>spam</td>\n",
              "      <td>WINNER!! As a valued network customer you have...</td>\n",
              "    </tr>\n",
              "    <tr>\n",
              "      <th>9</th>\n",
              "      <td>spam</td>\n",
              "      <td>Had your mobile 11 months or more? U R entitle...</td>\n",
              "    </tr>\n",
              "  </tbody>\n",
              "</table>\n",
              "</div>"
            ],
            "text/plain": [
              "   type                                               text\n",
              "0   ham  Go until jurong point, crazy.. Available only ...\n",
              "1   ham                      Ok lar... Joking wif u oni...\n",
              "2  spam  Free entry in 2 a wkly comp to win FA Cup fina...\n",
              "3   ham  U dun say so early hor... U c already then say...\n",
              "4   ham  Nah I don't think he goes to usf, he lives aro...\n",
              "5  spam  FreeMsg Hey there darling it's been 3 week's n...\n",
              "6   ham  Even my brother is not like to speak with me. ...\n",
              "7   ham  As per your request 'Melle Melle (Oru Minnamin...\n",
              "8  spam  WINNER!! As a valued network customer you have...\n",
              "9  spam  Had your mobile 11 months or more? U R entitle..."
            ]
          },
          "metadata": {
            "tags": []
          },
          "execution_count": 5
        }
      ]
    },
    {
      "cell_type": "code",
      "metadata": {
        "id": "Ey9L43zclBQ8",
        "colab": {
          "base_uri": "https://localhost:8080/",
          "height": 204
        },
        "outputId": "39583e82-347d-434d-d9b9-b9ba0a2d4f5d"
      },
      "source": [
        "dt['spam']=dt['type'].map({'spam':1,'ham':0}).astype(int)\n",
        "dt.head(5)"
      ],
      "execution_count": null,
      "outputs": [
        {
          "output_type": "execute_result",
          "data": {
            "text/html": [
              "<div>\n",
              "<style scoped>\n",
              "    .dataframe tbody tr th:only-of-type {\n",
              "        vertical-align: middle;\n",
              "    }\n",
              "\n",
              "    .dataframe tbody tr th {\n",
              "        vertical-align: top;\n",
              "    }\n",
              "\n",
              "    .dataframe thead th {\n",
              "        text-align: right;\n",
              "    }\n",
              "</style>\n",
              "<table border=\"1\" class=\"dataframe\">\n",
              "  <thead>\n",
              "    <tr style=\"text-align: right;\">\n",
              "      <th></th>\n",
              "      <th>type</th>\n",
              "      <th>text</th>\n",
              "      <th>spam</th>\n",
              "    </tr>\n",
              "  </thead>\n",
              "  <tbody>\n",
              "    <tr>\n",
              "      <th>0</th>\n",
              "      <td>ham</td>\n",
              "      <td>Go until jurong point, crazy.. Available only ...</td>\n",
              "      <td>0</td>\n",
              "    </tr>\n",
              "    <tr>\n",
              "      <th>1</th>\n",
              "      <td>ham</td>\n",
              "      <td>Ok lar... Joking wif u oni...</td>\n",
              "      <td>0</td>\n",
              "    </tr>\n",
              "    <tr>\n",
              "      <th>2</th>\n",
              "      <td>spam</td>\n",
              "      <td>Free entry in 2 a wkly comp to win FA Cup fina...</td>\n",
              "      <td>1</td>\n",
              "    </tr>\n",
              "    <tr>\n",
              "      <th>3</th>\n",
              "      <td>ham</td>\n",
              "      <td>U dun say so early hor... U c already then say...</td>\n",
              "      <td>0</td>\n",
              "    </tr>\n",
              "    <tr>\n",
              "      <th>4</th>\n",
              "      <td>ham</td>\n",
              "      <td>Nah I don't think he goes to usf, he lives aro...</td>\n",
              "      <td>0</td>\n",
              "    </tr>\n",
              "  </tbody>\n",
              "</table>\n",
              "</div>"
            ],
            "text/plain": [
              "   type                                               text  spam\n",
              "0   ham  Go until jurong point, crazy.. Available only ...     0\n",
              "1   ham                      Ok lar... Joking wif u oni...     0\n",
              "2  spam  Free entry in 2 a wkly comp to win FA Cup fina...     1\n",
              "3   ham  U dun say so early hor... U c already then say...     0\n",
              "4   ham  Nah I don't think he goes to usf, he lives aro...     0"
            ]
          },
          "metadata": {
            "tags": []
          },
          "execution_count": 6
        }
      ]
    },
    {
      "cell_type": "code",
      "metadata": {
        "id": "no_XsVB4l062",
        "colab": {
          "base_uri": "https://localhost:8080/"
        },
        "outputId": "2b311d98-10e0-45c5-b4fe-2826c23b5f63"
      },
      "source": [
        "print(\"COLUMNS IN THE GIVEN DATA:\")\n",
        "for col in dt.columns:\n",
        "  print(col)"
      ],
      "execution_count": null,
      "outputs": [
        {
          "output_type": "stream",
          "text": [
            "COLUMNS IN THE GIVEN DATA:\n",
            "type\n",
            "text\n",
            "spam\n"
          ],
          "name": "stdout"
        }
      ]
    },
    {
      "cell_type": "code",
      "metadata": {
        "id": "Flnyzs4rl_Vc",
        "colab": {
          "base_uri": "https://localhost:8080/"
        },
        "outputId": "e3525e05-dbed-4728-ebd8-a4f3656b8e94"
      },
      "source": [
        "t=len(dt['type'])\n",
        "print(\"No Of Rows In Review Column\",t)\n",
        "t=len(dt['text'])\n",
        "print(\"No Of Rows In Liked Column\",t)\n"
      ],
      "execution_count": null,
      "outputs": [
        {
          "output_type": "stream",
          "text": [
            "No Of Rows In Review Column 116\n",
            "No Of Rows In Liked Column 116\n"
          ],
          "name": "stdout"
        }
      ]
    },
    {
      "cell_type": "markdown",
      "metadata": {
        "id": "6S7Ryp6vmtNL"
      },
      "source": [
        "**2) Tokenization**"
      ]
    },
    {
      "cell_type": "code",
      "metadata": {
        "id": "W1-ua0QvmPAc",
        "colab": {
          "base_uri": "https://localhost:8080/",
          "height": 35
        },
        "outputId": "5e1cb240-8faf-4241-dd12-1a0417e0d7ab"
      },
      "source": [
        "dt['text'][4]"
      ],
      "execution_count": null,
      "outputs": [
        {
          "output_type": "execute_result",
          "data": {
            "application/vnd.google.colaboratory.intrinsic+json": {
              "type": "string"
            },
            "text/plain": [
              "\"Nah I don't think he goes to usf, he lives around here though\""
            ]
          },
          "metadata": {
            "tags": []
          },
          "execution_count": 9
        }
      ]
    },
    {
      "cell_type": "code",
      "metadata": {
        "id": "v1JCdKKxm3sP"
      },
      "source": [
        "def tokenizer(text):\n",
        "  return text.split()"
      ],
      "execution_count": null,
      "outputs": []
    },
    {
      "cell_type": "code",
      "metadata": {
        "id": "kFEypIfKm9Pq"
      },
      "source": [
        "dt['text']=dt['text'].apply(tokenizer)"
      ],
      "execution_count": null,
      "outputs": []
    },
    {
      "cell_type": "code",
      "metadata": {
        "id": "vDnG-MW2nDYK",
        "colab": {
          "base_uri": "https://localhost:8080/"
        },
        "outputId": "3678d26d-b18f-4b6c-ffa1-9af8b9e3e836"
      },
      "source": [
        "dt['text'][4]"
      ],
      "execution_count": null,
      "outputs": [
        {
          "output_type": "execute_result",
          "data": {
            "text/plain": [
              "['Nah',\n",
              " 'I',\n",
              " \"don't\",\n",
              " 'think',\n",
              " 'he',\n",
              " 'goes',\n",
              " 'to',\n",
              " 'usf,',\n",
              " 'he',\n",
              " 'lives',\n",
              " 'around',\n",
              " 'here',\n",
              " 'though']"
            ]
          },
          "metadata": {
            "tags": []
          },
          "execution_count": 12
        }
      ]
    },
    {
      "cell_type": "markdown",
      "metadata": {
        "id": "PEWmOSOhnLti"
      },
      "source": [
        "**3)Stemming**"
      ]
    },
    {
      "cell_type": "code",
      "metadata": {
        "id": "fkL9FT0MnawF"
      },
      "source": [
        "from nltk.stem.snowball import SnowballStemmer\n",
        "porter=SnowballStemmer('english',ignore_stopwords=False)"
      ],
      "execution_count": null,
      "outputs": []
    },
    {
      "cell_type": "code",
      "metadata": {
        "id": "bK7llUwAn72X"
      },
      "source": [
        "def stem_it(text):\n",
        "  return [porter.stem(word) for word in text]"
      ],
      "execution_count": null,
      "outputs": []
    },
    {
      "cell_type": "code",
      "metadata": {
        "id": "B5D20d4IoECf"
      },
      "source": [
        "dt['text']=dt['text'].apply(stem_it)"
      ],
      "execution_count": null,
      "outputs": []
    },
    {
      "cell_type": "code",
      "metadata": {
        "id": "1f0Yc9S3oJoz",
        "colab": {
          "base_uri": "https://localhost:8080/"
        },
        "outputId": "257a0e5e-170a-4cfe-b630-de2c6dda2a19"
      },
      "source": [
        "dt['text'][4]"
      ],
      "execution_count": null,
      "outputs": [
        {
          "output_type": "execute_result",
          "data": {
            "text/plain": [
              "['nah',\n",
              " 'i',\n",
              " \"don't\",\n",
              " 'think',\n",
              " 'he',\n",
              " 'goe',\n",
              " 'to',\n",
              " 'usf,',\n",
              " 'he',\n",
              " 'live',\n",
              " 'around',\n",
              " 'here',\n",
              " 'though']"
            ]
          },
          "metadata": {
            "tags": []
          },
          "execution_count": 16
        }
      ]
    },
    {
      "cell_type": "markdown",
      "metadata": {
        "id": "lOZyFGfKoOk6"
      },
      "source": [
        "**4) Lemmitization**"
      ]
    },
    {
      "cell_type": "code",
      "metadata": {
        "id": "wHhQxIg6oMOf",
        "colab": {
          "base_uri": "https://localhost:8080/"
        },
        "outputId": "7683f0ad-d06e-4966-fc6f-9cd750b4e14d"
      },
      "source": [
        "dt['text'][112]"
      ],
      "execution_count": null,
      "outputs": [
        {
          "output_type": "execute_result",
          "data": {
            "text/plain": [
              "['go', 'for', 'dinner.msg', 'you', 'after.']"
            ]
          },
          "metadata": {
            "tags": []
          },
          "execution_count": 18
        }
      ]
    },
    {
      "cell_type": "code",
      "metadata": {
        "id": "ms6gGeuoocW9"
      },
      "source": [
        "from nltk.stem import WordNetLemmatizer\n",
        "lemmatizer=WordNetLemmatizer()"
      ],
      "execution_count": null,
      "outputs": []
    },
    {
      "cell_type": "code",
      "metadata": {
        "id": "q4xsE_cnoqy4"
      },
      "source": [
        "def lemm_it(text):\n",
        "  return [lemmatizer.lemmatize(word,pos='a') for word in text]"
      ],
      "execution_count": null,
      "outputs": []
    },
    {
      "cell_type": "code",
      "metadata": {
        "id": "DxCS4wPuo29d"
      },
      "source": [
        "dt['text']=dt['text'].apply(lemm_it)"
      ],
      "execution_count": null,
      "outputs": []
    },
    {
      "cell_type": "code",
      "metadata": {
        "id": "ayRcoyDAo9re",
        "colab": {
          "base_uri": "https://localhost:8080/"
        },
        "outputId": "1b05b4e6-aa2d-4853-b391-6a9c2506dceb"
      },
      "source": [
        "dt['text'][4]"
      ],
      "execution_count": null,
      "outputs": [
        {
          "output_type": "execute_result",
          "data": {
            "text/plain": [
              "['nah',\n",
              " 'i',\n",
              " \"don't\",\n",
              " 'think',\n",
              " 'he',\n",
              " 'goe',\n",
              " 'to',\n",
              " 'usf,',\n",
              " 'he',\n",
              " 'live',\n",
              " 'around',\n",
              " 'here',\n",
              " 'though']"
            ]
          },
          "metadata": {
            "tags": []
          },
          "execution_count": 20
        }
      ]
    },
    {
      "cell_type": "code",
      "metadata": {
        "colab": {
          "base_uri": "https://localhost:8080/"
        },
        "id": "_e9gI5xTlTvm",
        "outputId": "8471afb1-3f78-4159-e984-b09daa4d02b1"
      },
      "source": [
        "nltk.download('stopwords') "
      ],
      "execution_count": null,
      "outputs": [
        {
          "output_type": "stream",
          "text": [
            "[nltk_data] Downloading package stopwords to /root/nltk_data...\n",
            "[nltk_data]   Unzipping corpora/stopwords.zip.\n"
          ],
          "name": "stdout"
        },
        {
          "output_type": "execute_result",
          "data": {
            "text/plain": [
              "True"
            ]
          },
          "metadata": {
            "tags": []
          },
          "execution_count": 21
        }
      ]
    },
    {
      "cell_type": "code",
      "metadata": {
        "id": "3DWBDVwpln-y"
      },
      "source": [
        "from nltk.stem.snowball import stopwords\n",
        "stop_words=stopwords.words('english')"
      ],
      "execution_count": null,
      "outputs": []
    },
    {
      "cell_type": "code",
      "metadata": {
        "id": "EhwNuei7l7d3"
      },
      "source": [
        "def stop_it(text):\n",
        "  review=[word for word in text if not word in stop_words]\n",
        "  return review"
      ],
      "execution_count": null,
      "outputs": []
    },
    {
      "cell_type": "code",
      "metadata": {
        "id": "5RrDbeZYmMif"
      },
      "source": [
        "dt['text']=dt['text'].apply(stop_it)"
      ],
      "execution_count": null,
      "outputs": []
    },
    {
      "cell_type": "code",
      "metadata": {
        "colab": {
          "base_uri": "https://localhost:8080/"
        },
        "id": "C7zzTfCAmXls",
        "outputId": "2577d8d8-f2bc-4bc5-9d11-f66ed66786bf"
      },
      "source": [
        "dt['text'][4]"
      ],
      "execution_count": null,
      "outputs": [
        {
          "output_type": "execute_result",
          "data": {
            "text/plain": [
              "['nah', 'think', 'goe', 'usf,', 'live', 'around', 'though']"
            ]
          },
          "metadata": {
            "tags": []
          },
          "execution_count": 25
        }
      ]
    },
    {
      "cell_type": "code",
      "metadata": {
        "colab": {
          "base_uri": "https://localhost:8080/",
          "height": 204
        },
        "id": "LfzC3TKOmZiH",
        "outputId": "f8f8acb3-78c3-4af9-a426-239dca7e8e81"
      },
      "source": [
        "dt.head()"
      ],
      "execution_count": null,
      "outputs": [
        {
          "output_type": "execute_result",
          "data": {
            "text/html": [
              "<div>\n",
              "<style scoped>\n",
              "    .dataframe tbody tr th:only-of-type {\n",
              "        vertical-align: middle;\n",
              "    }\n",
              "\n",
              "    .dataframe tbody tr th {\n",
              "        vertical-align: top;\n",
              "    }\n",
              "\n",
              "    .dataframe thead th {\n",
              "        text-align: right;\n",
              "    }\n",
              "</style>\n",
              "<table border=\"1\" class=\"dataframe\">\n",
              "  <thead>\n",
              "    <tr style=\"text-align: right;\">\n",
              "      <th></th>\n",
              "      <th>type</th>\n",
              "      <th>text</th>\n",
              "      <th>spam</th>\n",
              "    </tr>\n",
              "  </thead>\n",
              "  <tbody>\n",
              "    <tr>\n",
              "      <th>0</th>\n",
              "      <td>ham</td>\n",
              "      <td>[go, jurong, point,, crazy.., avail, onli, bug...</td>\n",
              "      <td>0</td>\n",
              "    </tr>\n",
              "    <tr>\n",
              "      <th>1</th>\n",
              "      <td>ham</td>\n",
              "      <td>[ok, lar..., joke, wif, u, oni...]</td>\n",
              "      <td>0</td>\n",
              "    </tr>\n",
              "    <tr>\n",
              "      <th>2</th>\n",
              "      <td>spam</td>\n",
              "      <td>[free, entri, 2, wkli, comp, win, fa, cup, fin...</td>\n",
              "      <td>1</td>\n",
              "    </tr>\n",
              "    <tr>\n",
              "      <th>3</th>\n",
              "      <td>ham</td>\n",
              "      <td>[u, dun, say, earli, hor..., u, c, alreadi, sa...</td>\n",
              "      <td>0</td>\n",
              "    </tr>\n",
              "    <tr>\n",
              "      <th>4</th>\n",
              "      <td>ham</td>\n",
              "      <td>[nah, think, goe, usf,, live, around, though]</td>\n",
              "      <td>0</td>\n",
              "    </tr>\n",
              "  </tbody>\n",
              "</table>\n",
              "</div>"
            ],
            "text/plain": [
              "   type                                               text  spam\n",
              "0   ham  [go, jurong, point,, crazy.., avail, onli, bug...     0\n",
              "1   ham                 [ok, lar..., joke, wif, u, oni...]     0\n",
              "2  spam  [free, entri, 2, wkli, comp, win, fa, cup, fin...     1\n",
              "3   ham  [u, dun, say, earli, hor..., u, c, alreadi, sa...     0\n",
              "4   ham      [nah, think, goe, usf,, live, around, though]     0"
            ]
          },
          "metadata": {
            "tags": []
          },
          "execution_count": 26
        }
      ]
    },
    {
      "cell_type": "code",
      "metadata": {
        "id": "IQ8cdUOumeyP"
      },
      "source": [
        "dt['text']=dt['text'].apply(' '.join)"
      ],
      "execution_count": null,
      "outputs": []
    },
    {
      "cell_type": "code",
      "metadata": {
        "colab": {
          "base_uri": "https://localhost:8080/",
          "height": 204
        },
        "id": "yCy9PatImmPo",
        "outputId": "c9bde728-1768-4867-9dde-025fbaec3598"
      },
      "source": [
        "dt.head()"
      ],
      "execution_count": null,
      "outputs": [
        {
          "output_type": "execute_result",
          "data": {
            "text/html": [
              "<div>\n",
              "<style scoped>\n",
              "    .dataframe tbody tr th:only-of-type {\n",
              "        vertical-align: middle;\n",
              "    }\n",
              "\n",
              "    .dataframe tbody tr th {\n",
              "        vertical-align: top;\n",
              "    }\n",
              "\n",
              "    .dataframe thead th {\n",
              "        text-align: right;\n",
              "    }\n",
              "</style>\n",
              "<table border=\"1\" class=\"dataframe\">\n",
              "  <thead>\n",
              "    <tr style=\"text-align: right;\">\n",
              "      <th></th>\n",
              "      <th>type</th>\n",
              "      <th>text</th>\n",
              "      <th>spam</th>\n",
              "    </tr>\n",
              "  </thead>\n",
              "  <tbody>\n",
              "    <tr>\n",
              "      <th>0</th>\n",
              "      <td>ham</td>\n",
              "      <td>go jurong point, crazy.. avail onli bugi n gre...</td>\n",
              "      <td>0</td>\n",
              "    </tr>\n",
              "    <tr>\n",
              "      <th>1</th>\n",
              "      <td>ham</td>\n",
              "      <td>ok lar... joke wif u oni...</td>\n",
              "      <td>0</td>\n",
              "    </tr>\n",
              "    <tr>\n",
              "      <th>2</th>\n",
              "      <td>spam</td>\n",
              "      <td>free entri 2 wkli comp win fa cup final tkts 2...</td>\n",
              "      <td>1</td>\n",
              "    </tr>\n",
              "    <tr>\n",
              "      <th>3</th>\n",
              "      <td>ham</td>\n",
              "      <td>u dun say earli hor... u c alreadi say...</td>\n",
              "      <td>0</td>\n",
              "    </tr>\n",
              "    <tr>\n",
              "      <th>4</th>\n",
              "      <td>ham</td>\n",
              "      <td>nah think goe usf, live around though</td>\n",
              "      <td>0</td>\n",
              "    </tr>\n",
              "  </tbody>\n",
              "</table>\n",
              "</div>"
            ],
            "text/plain": [
              "   type                                               text  spam\n",
              "0   ham  go jurong point, crazy.. avail onli bugi n gre...     0\n",
              "1   ham                        ok lar... joke wif u oni...     0\n",
              "2  spam  free entri 2 wkli comp win fa cup final tkts 2...     1\n",
              "3   ham          u dun say earli hor... u c alreadi say...     0\n",
              "4   ham              nah think goe usf, live around though     0"
            ]
          },
          "metadata": {
            "tags": []
          },
          "execution_count": 28
        }
      ]
    },
    {
      "cell_type": "code",
      "metadata": {
        "id": "RDKN14p7mny-"
      },
      "source": [
        "from sklearn.feature_extraction.text import TfidfVectorizer\n",
        "tfidf=TfidfVectorizer()\n",
        "y=dt.spam.values\n",
        "x=tfidf.fit_transform(dt['text'])"
      ],
      "execution_count": null,
      "outputs": []
    },
    {
      "cell_type": "code",
      "metadata": {
        "id": "7HJGcms-nMNn"
      },
      "source": [
        "from sklearn.model_selection import train_test_split\n",
        "x_train,x_test,y_train,y_test=train_test_split(x,y,random_state=1,test_size=0.2,shuffle=False)"
      ],
      "execution_count": null,
      "outputs": []
    },
    {
      "cell_type": "code",
      "metadata": {
        "id": "CwB6KqipoZkJ"
      },
      "source": [
        "from sklearn.linear_model import LogisticRegression\n",
        "clf=LogisticRegression()\n",
        "clf.fit(x_train,y_train)\n",
        "y_pred=clf.predict(x_test)"
      ],
      "execution_count": null,
      "outputs": []
    },
    {
      "cell_type": "code",
      "metadata": {
        "colab": {
          "base_uri": "https://localhost:8080/"
        },
        "id": "sJ4vywsLsVip",
        "outputId": "b2985ce3-a88d-4f65-fe90-32d8c714a6fb"
      },
      "source": [
        "from sklearn.metrics import accuracy_score\n",
        "acc_log=accuracy_score(y_pred,y_test)*100\n",
        "print(\"accuracy:\",acc_log)"
      ],
      "execution_count": null,
      "outputs": [
        {
          "output_type": "stream",
          "text": [
            "accuracy: 87.5\n"
          ],
          "name": "stdout"
        }
      ]
    },
    {
      "cell_type": "code",
      "metadata": {
        "id": "UwfUeDnBs22q"
      },
      "source": [
        ""
      ],
      "execution_count": null,
      "outputs": []
    }
  ]
}